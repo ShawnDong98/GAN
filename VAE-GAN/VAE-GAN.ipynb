{
 "cells": [
  {
   "cell_type": "markdown",
   "metadata": {},
   "source": [
    "<a href=\"https://colab.research.google.com/github/ShawnDong98/GAN/blob/master/VAE-GAN/VAE-GAN.ipynb\" target=\"_parent\"><img src=\"https://colab.research.google.com/assets/colab-badge.svg\" alt=\"Open In Colab\"/></a>"
   ]
  },
  {
   "cell_type": "code",
   "execution_count": 1,
   "metadata": {},
   "outputs": [],
   "source": [
    "from __future__ import print_function\n",
    "import argparse\n",
    "import h5py\n",
    "import numpy as np\n",
    "import os\n",
    "import time\n",
    "import torch\n",
    "import torch.utils.data\n",
    "import torch.nn as nn\n",
    "import torch.nn.functional as F\n",
    "import torch.optim as optim\n",
    "from torch.utils.data.dataset import Dataset\n",
    "from torch.autograd import Variable\n",
    "from torchvision import datasets, transforms\n",
    "from torchvision.utils import make_grid , save_image\n",
    "import torchvision.utils as vutils"
   ]
  },
  {
   "cell_type": "code",
   "execution_count": 2,
   "metadata": {},
   "outputs": [],
   "source": [
    "torch.cuda.empty_cache()"
   ]
  },
  {
   "cell_type": "code",
   "execution_count": 3,
   "metadata": {},
   "outputs": [],
   "source": [
    "%matplotlib inline\n",
    "import matplotlib.pyplot as plt\n",
    "\n",
    "def show_and_save(file_name,img):\n",
    "    npimg = np.transpose(img.numpy(),(1,2,0))\n",
    "    f = \"./%s.png\" % file_name\n",
    "    fig = plt.figure(dpi=300)\n",
    "    fig.suptitle(file_name, fontsize=14, fontweight='bold')\n",
    "    #plt.imshow(npimg)\n",
    "    plt.imsave(f,npimg)\n",
    "    \n",
    "def save_model(epoch, encoder, decoder, D):\n",
    "    state = {'encoder': encoder.cpu().state_dict(),\n",
    "             'decoder': decoder.cpu().state_dict(),\n",
    "             'D':D.cpu().state_dict(),\n",
    "             'epoch': epoch,}\n",
    "    \n",
    "    torch.save(state, 'VAE_GAN_%d.pth' % epoch)\n",
    "    \n",
    "    encoder.cuda()\n",
    "    decoder.cuda()\n",
    "    D.cuda()\n",
    "    \n",
    "def load_model(G, D, state):\n",
    "    #  restore models\n",
    "    G.decoder.load_state_dict(state['decoder'])\n",
    "    G.decoder.cuda()\n",
    "    G.encoder.load_state_dict(state['encoder'])\n",
    "    G.encoder.cuda()\n",
    "    D.load_state_dict(state['D'])\n",
    "    D.cuda()"
   ]
  },
  {
   "cell_type": "code",
   "execution_count": 4,
   "metadata": {},
   "outputs": [],
   "source": [
    "# define constant\n",
    "input_channels = 3\n",
    "hidden_size = 64\n",
    "max_epochs = 250"
   ]
  },
  {
   "cell_type": "code",
   "execution_count": 72,
   "metadata": {},
   "outputs": [],
   "source": [
    "batch_size = 4\n",
    "T = transforms.Compose([transforms.Resize(64),\n",
    "                        transforms.ToTensor(),\n",
    "                        transforms.Normalize([0.485, 0.456, 0.406], [0.229, 0.224, 0.225]),\n",
    "                       ])\n",
    "\n",
    "dataset = datasets.ImageFolder(\n",
    "    root = \"../data/own_data/\", \n",
    "    transform=T,\n",
    ")\n",
    "    \n",
    "    \n",
    "\n",
    "\n",
    "train_loader = torch.utils.data.DataLoader(\n",
    "    dataset,\n",
    "    batch_size=batch_size, shuffle=True)\n",
    "\n",
    "# train_loader = torch.utils.data.DataLoader(\n",
    "#     datasets.MNIST(\n",
    "#         \"../data\",\n",
    "#         train=True,\n",
    "#         download=True,\n",
    "#         transform=transforms.Compose(\n",
    "#             [transforms.Resize(64), \n",
    "#              transforms.ToTensor(),\n",
    "#              transforms.Normalize([0.5], [0.5])\n",
    "#             ]\n",
    "#         ),\n",
    "#     ),\n",
    "#     batch_size=batch_size,\n",
    "#     shuffle=True,\n",
    "# )"
   ]
  },
  {
   "cell_type": "code",
   "execution_count": 6,
   "metadata": {},
   "outputs": [],
   "source": [
    "class Encoder(nn.Module):\n",
    "    def __init__(self, input_channels, output_channels, representation_size = 64):\n",
    "        super(Encoder, self).__init__()\n",
    "        # input channels: 3\n",
    "        # output channels = hidden size : 64\n",
    "        self.input_channels = input_channels\n",
    "        self.output_channels = output_channels\n",
    "        \n",
    "        self.features = nn.Sequential(\n",
    "            # nc x 64 x 64\n",
    "            # 3 -> 64\n",
    "            nn.Conv2d(self.input_channels, representation_size, 5, stride=2, padding=2),\n",
    "            nn.BatchNorm2d(representation_size),\n",
    "            nn.ReLU(),\n",
    "            # hidden_size x 32 x 32\n",
    "            # 64 -> 128\n",
    "            nn.Conv2d(representation_size, representation_size*2, 5, stride=2, padding=2),\n",
    "            nn.BatchNorm2d(representation_size * 2),\n",
    "            nn.ReLU(),\n",
    "            # hidden_size*2 x 16 x 16\n",
    "            # 128 -> 256\n",
    "            nn.Conv2d(representation_size*2, representation_size*4, 5, stride=2, padding=2),\n",
    "            nn.BatchNorm2d(representation_size * 4),\n",
    "            nn.ReLU())\n",
    "            # hidden_size*4 x 8 x 8\n",
    "            \n",
    "        self.mean = nn.Sequential(\n",
    "            nn.Linear(representation_size*4*8*8, output_channels)\n",
    "        )\n",
    "        \n",
    "        self.logvar = nn.Sequential(\n",
    "            nn.Linear(representation_size*4*8*8, output_channels)\n",
    "        )\n",
    "        \n",
    "    def forward(self, x):\n",
    "        batch_size = x.size()[0]\n",
    "\n",
    "        hidden_representation = self.features(x)\n",
    "\n",
    "        mean = self.mean(hidden_representation.view(batch_size, -1))\n",
    "        logvar = self.logvar(hidden_representation.view(batch_size, -1))\n",
    "\n",
    "        return mean, logvar\n",
    "    \n",
    "    def hidden_layer(self, x):\n",
    "        batch_size = x.size()[0]\n",
    "        output = self.features(x)\n",
    "        return output"
   ]
  },
  {
   "cell_type": "code",
   "execution_count": 7,
   "metadata": {},
   "outputs": [],
   "source": [
    "class Decoder(nn.Module):\n",
    "    def __init__(self, input_size, representation_size):\n",
    "        super(Decoder, self).__init__()\n",
    "        self.input_size = input_size\n",
    "        self.representation_size = representation_size\n",
    "        dim = representation_size[0] * representation_size[1] * representation_size[2]\n",
    "        \n",
    "        self.preprocess = nn.Sequential(\n",
    "            nn.Linear(input_size, dim),\n",
    "            nn.BatchNorm1d(dim),\n",
    "            nn.ReLU())\n",
    "        \n",
    "            # 256 x 8 x 8\n",
    "        self.deconv1 = nn.ConvTranspose2d(representation_size[0], 128, 5, stride=2, padding=2)\n",
    "        self.act1 = nn.Sequential(nn.BatchNorm2d(128),\n",
    "                                  nn.ReLU())\n",
    "            # 256 x 16 x 16\n",
    "        self.deconv2 = nn.ConvTranspose2d(128, 32, 5, stride=2, padding=2)\n",
    "        self.act2 = nn.Sequential(nn.BatchNorm2d(32),\n",
    "                                  nn.ReLU())\n",
    "            # 128 x 32 x 32\n",
    "        self.deconv3 = nn.ConvTranspose2d(32, input_channels, 5, stride=2, padding=2)\n",
    "        self.act3 = nn.Sequential(nn.BatchNorm2d(input_channels),\n",
    "                                  nn.ReLU())\n",
    "            # 3 x 64 x 64\n",
    "        self.activation = nn.Tanh()\n",
    "            \n",
    "    \n",
    "    def forward(self, code):\n",
    "        bs = code.size()[0]\n",
    "        preprocessed_codes = self.preprocess(code)\n",
    "        preprocessed_codes = preprocessed_codes.view(-1,\n",
    "                                                     self.representation_size[0],\n",
    "                                                     self.representation_size[1],\n",
    "                                                     self.representation_size[2])\n",
    "        output = self.deconv1(preprocessed_codes, output_size=(bs, 256, 16, 16))\n",
    "        output = self.act1(output)\n",
    "        output = self.deconv2(output, output_size=(bs, 128, 32, 32))\n",
    "        output = self.act2(output)\n",
    "        output = self.deconv3(output, output_size=(bs, 32, 64, 64))\n",
    "        output = self.act3(output)\n",
    "        output = self.activation(output)\n",
    "        return output"
   ]
  },
  {
   "cell_type": "code",
   "execution_count": 8,
   "metadata": {},
   "outputs": [],
   "source": [
    "class VAE_GAN_Generator(nn.Module):\n",
    "    def __init__(self, input_channels, hidden_size, representation_size=(256, 8, 8)):\n",
    "        super(VAE_GAN_Generator, self).__init__()\n",
    "        self.input_channels = input_channels\n",
    "        self.hidden_size = hidden_size\n",
    "        self.representation_size = representation_size\n",
    "        \n",
    "        self.encoder = Encoder(input_channels, hidden_size)\n",
    "        self.decoder = Decoder(hidden_size, representation_size)\n",
    "        \n",
    "    def forward(self, x):\n",
    "        batch_size = x.size()[0]\n",
    "        mean, logvar = self.encoder(x)\n",
    "        std = logvar.mul(0.5).exp_()\n",
    "        \n",
    "        reparametrized_noise = Variable(torch.randn((batch_size, self.hidden_size))).cuda()\n",
    "\n",
    "        reparametrized_noise = mean + std * reparametrized_noise\n",
    "\n",
    "        rec_images = self.decoder(reparametrized_noise)\n",
    "        \n",
    "        return mean, logvar, rec_images"
   ]
  },
  {
   "cell_type": "code",
   "execution_count": 9,
   "metadata": {},
   "outputs": [],
   "source": [
    "class Discriminator(nn.Module):\n",
    "    def __init__(self, input_channels, representation_size=(256, 8, 8)):  \n",
    "        super(Discriminator, self).__init__()\n",
    "        self.representation_size = representation_size\n",
    "        dim = representation_size[0] * representation_size[1] * representation_size[2]\n",
    "        \n",
    "        self.main = nn.Sequential(\n",
    "            # 3x64x64 -> 32x32x32\n",
    "            nn.Conv2d(input_channels, 32, 5, stride=2, padding=2),\n",
    "            nn.BatchNorm2d(32),\n",
    "            nn.LeakyReLU(0.2),\n",
    "            # 32x32x32 -> 128x16x16\n",
    "            nn.Conv2d(32, 128, 5, stride=2, padding=2),\n",
    "            nn.BatchNorm2d(128),\n",
    "            nn.LeakyReLU(0.2),\n",
    "            # 128x16x16 -> 256x8x8\n",
    "            nn.Conv2d(128, 256, 5, stride=2, padding=2),\n",
    "            nn.BatchNorm2d(256),\n",
    "            nn.LeakyReLU(0.2),\n",
    "        )\n",
    "        \n",
    "        self.lth_features = nn.Sequential(\n",
    "            nn.Linear(dim, 2048),\n",
    "            nn.LeakyReLU(0.2))\n",
    "        \n",
    "        self.sigmoid_output = nn.Sequential(\n",
    "            nn.Linear(2048, 1),\n",
    "            nn.Sigmoid()\n",
    "        )\n",
    "        \n",
    "    def forward(self, x):\n",
    "        batch_size = x.size()[0]\n",
    "        features = self.main(x)\n",
    "        lth_rep = self.lth_features(features.view(batch_size, -1))\n",
    "        output = self.sigmoid_output(lth_rep)\n",
    "        return output\n",
    "    \n",
    "    def similarity(self, x):\n",
    "        batch_size = x.size()[0]\n",
    "        features = self.main(x)\n",
    "        lth_rep = self.lth_features(features.view(batch_size, -1))\n",
    "        return lth_rep"
   ]
  },
  {
   "cell_type": "code",
   "execution_count": 10,
   "metadata": {},
   "outputs": [],
   "source": [
    "lr = 3e-4\n",
    "\n",
    "beta = 5\n",
    "alpha = 0.1\n",
    "gamma = 15"
   ]
  },
  {
   "cell_type": "code",
   "execution_count": 11,
   "metadata": {},
   "outputs": [],
   "source": [
    "G = VAE_GAN_Generator(input_channels, hidden_size).cuda()\n",
    "D = Discriminator(input_channels).cuda()\n",
    "\n",
    "criterion = nn.BCELoss()\n",
    "criterion.cuda()\n",
    "\n",
    "opt_enc = optim.RMSprop(G.encoder.parameters(), lr=lr)\n",
    "opt_dec = optim.RMSprop(G.decoder.parameters(), lr=lr)\n",
    "opt_dis = optim.RMSprop(D.parameters(), lr=lr * alpha)\n",
    "\n",
    "# opt_enc =  optim.Adam(G.encoder.parameters(), lr=lr, betas=(0.9, 0.999), eps=1e-08, weight_decay=0)\n",
    "# opt_dec =  optim.Adam(G.decoder.parameters(), lr=lr, betas=(0.9, 0.999), eps=1e-08, weight_decay=0)\n",
    "# opt_dis =  optim.Adam(D.parameters(), lr=lr * alpha, betas=(0.9, 0.999), eps=1e-08, weight_decay=0)"
   ]
  },
  {
   "cell_type": "code",
   "execution_count": 12,
   "metadata": {},
   "outputs": [],
   "source": [
    "fixed_noise = Variable(torch.randn(batch_size, hidden_size)).cuda()\n",
    "data, _ = next(iter(train_loader))\n",
    "fixed_batch = Variable(data).cuda()\n",
    "fixed_batch = fixed_batch.resize_(fixed_batch.shape[0], input_channels, 64,  64)"
   ]
  },
  {
   "cell_type": "code",
   "execution_count": 60,
   "metadata": {},
   "outputs": [],
   "source": [
    "import torch\n",
    "from PIL import Image\n",
    "import matplotlib.pyplot as plt\n",
    "import cv2\n",
    "\n",
    "# loader使用torchvision中自带的transforms函数\n",
    "loader = transforms.Compose([\n",
    "    transforms.ToTensor()])  \n",
    "\n",
    "unloader = transforms.ToPILImage()\n",
    "\n",
    "def imshow(tensor, title=None):\n",
    "    image = tensor.cpu().clone()  # we clone the tensor to not do changes on it\n",
    "    print(image.size())\n",
    "    image = image.squeeze(0)  # remove the fake batch dimension\n",
    "    print(image.size())\n",
    "    image = unloader(image)\n",
    "    plt.imshow(image)\n",
    "    if title is not None:\n",
    "        plt.title(title)\n",
    "    plt.pause(0.001)  # pause a bit so that plots are updated\n",
    "    \n",
    "def toTensor(img):\n",
    "    assert type(img) == np.ndarray,'the img type is {}, but ndarry expected'.format(type(img))\n",
    "    img = cv2.cvtColor(img, cv2.COLOR_BGR2RGB)\n",
    "    img = torch.from_numpy(img.transpose((2, 0, 1)))\n",
    "    return img.float().div(255).unsqueeze(0) \n",
    "    \n",
    "def tensor_to_np(tensor):\n",
    "    img = tensor.mul(255).byte()\n",
    "    img = img.cpu().squeeze(0).numpy().transpose((1, 2, 0))\n",
    "    return img\n",
    "    \n",
    "def show_from_tensor(tensor, title=None):\n",
    "    img = tensor.clone()\n",
    "    img = tensor_to_np(img)\n",
    "    plt.figure()\n",
    "    plt.imshow(img)\n",
    "    if title is not None:\n",
    "        plt.title(title)\n",
    "    plt.pause(0.001)"
   ]
  },
  {
   "cell_type": "code",
   "execution_count": 74,
   "metadata": {},
   "outputs": [
    {
     "name": "stdout",
     "output_type": "stream",
     "text": [
      "loading model...\n",
      "No checkpoint...\n",
      "Thu Mar 19 00:47:51 2020\n",
      "[1/250]: D_real:0.9716, D_enc:0.0242, D_noise:0.0069, Loss_D:0.0887, Loss_G:-0.0210, rec_loss:0.7357, prior_loss:16.9756\n",
      "Thu Mar 19 00:49:09 2020\n",
      "[2/250]: D_real:0.9773, D_enc:0.0248, D_noise:0.0013, Loss_D:0.1022, Loss_G:-0.0413, rec_loss:0.9387, prior_loss:612.4183\n",
      "Thu Mar 19 00:50:27 2020\n",
      "[3/250]: D_real:0.9904, D_enc:0.0117, D_noise:0.0000, Loss_D:0.0370, Loss_G:-0.0059, rec_loss:1.3270, prior_loss:2.5347\n",
      "Thu Mar 19 00:51:44 2020\n",
      "[4/250]: D_real:0.9895, D_enc:0.0116, D_noise:0.0000, Loss_D:0.0676, Loss_G:-0.0321, rec_loss:1.5391, prior_loss:3.3592\n",
      "Thu Mar 19 00:53:01 2020\n",
      "[5/250]: D_real:0.9961, D_enc:0.0057, D_noise:0.0000, Loss_D:0.0166, Loss_G:-0.0033, rec_loss:1.8123, prior_loss:10.0930\n",
      "Thu Mar 19 00:54:17 2020\n",
      "[6/250]: D_real:0.9981, D_enc:0.0019, D_noise:0.0000, Loss_D:0.0040, Loss_G:-0.0011, rec_loss:1.9981, prior_loss:37.7629\n",
      "Thu Mar 19 00:55:33 2020\n",
      "[7/250]: D_real:0.9928, D_enc:0.0051, D_noise:0.0000, Loss_D:0.0360, Loss_G:-0.0022, rec_loss:3.1535, prior_loss:4.4397\n",
      "Thu Mar 19 00:56:49 2020\n",
      "[8/250]: D_real:0.9990, D_enc:0.0022, D_noise:0.0000, Loss_D:0.0033, Loss_G:-0.0009, rec_loss:3.6496, prior_loss:4.7690\n",
      "Thu Mar 19 00:58:06 2020\n",
      "[9/250]: D_real:0.9957, D_enc:0.0065, D_noise:0.0000, Loss_D:0.0297, Loss_G:-0.0154, rec_loss:4.1131, prior_loss:26.3587\n",
      "Thu Mar 19 00:59:23 2020\n",
      "[10/250]: D_real:0.9974, D_enc:0.0033, D_noise:0.0000, Loss_D:0.0181, Loss_G:-0.0040, rec_loss:4.1049, prior_loss:20.2704\n"
     ]
    },
    {
     "ename": "RuntimeError",
     "evalue": "CUDA out of memory. Tried to allocate 128.00 MiB (GPU 0; 2.00 GiB total capacity; 913.75 MiB already allocated; 12.44 MiB free; 128.25 MiB cached)",
     "output_type": "error",
     "traceback": [
      "\u001b[1;31m---------------------------------------------------------------------------\u001b[0m",
      "\u001b[1;31mRuntimeError\u001b[0m                              Traceback (most recent call last)",
      "\u001b[1;32m<ipython-input-74-8c8729db553e>\u001b[0m in \u001b[0;36m<module>\u001b[1;34m()\u001b[0m\n\u001b[0;32m     43\u001b[0m         \u001b[0mD_list\u001b[0m\u001b[1;33m.\u001b[0m\u001b[0mappend\u001b[0m\u001b[1;33m(\u001b[0m\u001b[0mdis_img_loss\u001b[0m\u001b[1;33m.\u001b[0m\u001b[0mdata\u001b[0m\u001b[1;33m.\u001b[0m\u001b[0mmean\u001b[0m\u001b[1;33m(\u001b[0m\u001b[1;33m)\u001b[0m\u001b[1;33m.\u001b[0m\u001b[0mcpu\u001b[0m\u001b[1;33m(\u001b[0m\u001b[1;33m)\u001b[0m\u001b[1;33m)\u001b[0m\u001b[1;33m\u001b[0m\u001b[1;33m\u001b[0m\u001b[0m\n\u001b[0;32m     44\u001b[0m         \u001b[0mopt_dis\u001b[0m\u001b[1;33m.\u001b[0m\u001b[0mzero_grad\u001b[0m\u001b[1;33m(\u001b[0m\u001b[1;33m)\u001b[0m\u001b[1;33m\u001b[0m\u001b[1;33m\u001b[0m\u001b[0m\n\u001b[1;32m---> 45\u001b[1;33m         \u001b[0mdis_img_loss\u001b[0m\u001b[1;33m.\u001b[0m\u001b[0mbackward\u001b[0m\u001b[1;33m(\u001b[0m\u001b[0mretain_graph\u001b[0m\u001b[1;33m=\u001b[0m\u001b[1;32mTrue\u001b[0m\u001b[1;33m)\u001b[0m\u001b[1;33m\u001b[0m\u001b[1;33m\u001b[0m\u001b[0m\n\u001b[0m\u001b[0;32m     46\u001b[0m         \u001b[0mopt_dis\u001b[0m\u001b[1;33m.\u001b[0m\u001b[0mstep\u001b[0m\u001b[1;33m(\u001b[0m\u001b[1;33m)\u001b[0m\u001b[1;33m\u001b[0m\u001b[1;33m\u001b[0m\u001b[0m\n\u001b[0;32m     47\u001b[0m \u001b[1;33m\u001b[0m\u001b[0m\n",
      "\u001b[1;32mC:\\Users\\ShawnD98\\Anaconda3\\envs\\Deeplearning\\lib\\site-packages\\torch\\tensor.py\u001b[0m in \u001b[0;36mbackward\u001b[1;34m(self, gradient, retain_graph, create_graph)\u001b[0m\n\u001b[0;32m    148\u001b[0m                 \u001b[0mproducts\u001b[0m\u001b[1;33m.\u001b[0m \u001b[0mDefaults\u001b[0m \u001b[0mto\u001b[0m\u001b[0;31m \u001b[0m\u001b[0;31m`\u001b[0m\u001b[0;31m`\u001b[0m\u001b[1;32mFalse\u001b[0m\u001b[0;31m`\u001b[0m\u001b[0;31m`\u001b[0m\u001b[1;33m.\u001b[0m\u001b[1;33m\u001b[0m\u001b[1;33m\u001b[0m\u001b[0m\n\u001b[0;32m    149\u001b[0m         \"\"\"\n\u001b[1;32m--> 150\u001b[1;33m         \u001b[0mtorch\u001b[0m\u001b[1;33m.\u001b[0m\u001b[0mautograd\u001b[0m\u001b[1;33m.\u001b[0m\u001b[0mbackward\u001b[0m\u001b[1;33m(\u001b[0m\u001b[0mself\u001b[0m\u001b[1;33m,\u001b[0m \u001b[0mgradient\u001b[0m\u001b[1;33m,\u001b[0m \u001b[0mretain_graph\u001b[0m\u001b[1;33m,\u001b[0m \u001b[0mcreate_graph\u001b[0m\u001b[1;33m)\u001b[0m\u001b[1;33m\u001b[0m\u001b[1;33m\u001b[0m\u001b[0m\n\u001b[0m\u001b[0;32m    151\u001b[0m \u001b[1;33m\u001b[0m\u001b[0m\n\u001b[0;32m    152\u001b[0m     \u001b[1;32mdef\u001b[0m \u001b[0mregister_hook\u001b[0m\u001b[1;33m(\u001b[0m\u001b[0mself\u001b[0m\u001b[1;33m,\u001b[0m \u001b[0mhook\u001b[0m\u001b[1;33m)\u001b[0m\u001b[1;33m:\u001b[0m\u001b[1;33m\u001b[0m\u001b[1;33m\u001b[0m\u001b[0m\n",
      "\u001b[1;32mC:\\Users\\ShawnD98\\Anaconda3\\envs\\Deeplearning\\lib\\site-packages\\torch\\autograd\\__init__.py\u001b[0m in \u001b[0;36mbackward\u001b[1;34m(tensors, grad_tensors, retain_graph, create_graph, grad_variables)\u001b[0m\n\u001b[0;32m     97\u001b[0m     Variable._execution_engine.run_backward(\n\u001b[0;32m     98\u001b[0m         \u001b[0mtensors\u001b[0m\u001b[1;33m,\u001b[0m \u001b[0mgrad_tensors\u001b[0m\u001b[1;33m,\u001b[0m \u001b[0mretain_graph\u001b[0m\u001b[1;33m,\u001b[0m \u001b[0mcreate_graph\u001b[0m\u001b[1;33m,\u001b[0m\u001b[1;33m\u001b[0m\u001b[1;33m\u001b[0m\u001b[0m\n\u001b[1;32m---> 99\u001b[1;33m         allow_unreachable=True)  # allow_unreachable flag\n\u001b[0m\u001b[0;32m    100\u001b[0m \u001b[1;33m\u001b[0m\u001b[0m\n\u001b[0;32m    101\u001b[0m \u001b[1;33m\u001b[0m\u001b[0m\n",
      "\u001b[1;31mRuntimeError\u001b[0m: CUDA out of memory. Tried to allocate 128.00 MiB (GPU 0; 2.00 GiB total capacity; 913.75 MiB already allocated; 12.44 MiB free; 128.25 MiB cached)"
     ]
    },
    {
     "data": {
      "text/plain": [
       "<Figure size 1800x1200 with 0 Axes>"
      ]
     },
     "metadata": {},
     "output_type": "display_data"
    },
    {
     "data": {
      "text/plain": [
       "<Figure size 1800x1200 with 0 Axes>"
      ]
     },
     "metadata": {},
     "output_type": "display_data"
    },
    {
     "data": {
      "text/plain": [
       "<Figure size 1800x1200 with 0 Axes>"
      ]
     },
     "metadata": {},
     "output_type": "display_data"
    },
    {
     "data": {
      "text/plain": [
       "<Figure size 1800x1200 with 0 Axes>"
      ]
     },
     "metadata": {},
     "output_type": "display_data"
    },
    {
     "data": {
      "text/plain": [
       "<Figure size 1800x1200 with 0 Axes>"
      ]
     },
     "metadata": {},
     "output_type": "display_data"
    },
    {
     "data": {
      "text/plain": [
       "<Figure size 1800x1200 with 0 Axes>"
      ]
     },
     "metadata": {},
     "output_type": "display_data"
    },
    {
     "data": {
      "text/plain": [
       "<Figure size 1800x1200 with 0 Axes>"
      ]
     },
     "metadata": {},
     "output_type": "display_data"
    },
    {
     "data": {
      "text/plain": [
       "<Figure size 1800x1200 with 0 Axes>"
      ]
     },
     "metadata": {},
     "output_type": "display_data"
    },
    {
     "data": {
      "text/plain": [
       "<Figure size 1800x1200 with 0 Axes>"
      ]
     },
     "metadata": {},
     "output_type": "display_data"
    },
    {
     "data": {
      "text/plain": [
       "<Figure size 1800x1200 with 0 Axes>"
      ]
     },
     "metadata": {},
     "output_type": "display_data"
    }
   ],
   "source": [
    "state = {'epoch': 0}\n",
    "try:\n",
    "    print(\"loading model...\")\n",
    "    state = torch.load('VAE_GAN_%d.pth' % 50)\n",
    "    load_model(G, D, state)\n",
    "except:\n",
    "    print(\"No checkpoint...\")\n",
    "for epoch in range(state['epoch']+1, max_epochs):\n",
    "    D_real_list, D_rec_enc_list, D_rec_noise_list, D_list = [], [], [], []\n",
    "    g_loss_list, rec_loss_list, prior_loss_list = [], [], []\n",
    "    for data, _ in train_loader:\n",
    "        batch_size = data.size()[0]\n",
    "        ones_label =  torch.full((batch_size, 1), 1, device=torch.device(\"cuda:0\"))\n",
    "        zeros_label = torch.full((batch_size, 1), 0, device=torch.device(\"cuda:0\"))\n",
    "        \n",
    "\n",
    "        datav = Variable(data).cuda()\n",
    "        \n",
    "        mean, logvar, rec_enc = G(datav)\n",
    "        #print (\"The size of rec_enc:\", rec_enc.size())\n",
    "        \n",
    "        noisev = Variable(torch.randn(batch_size, hidden_size)).cuda()\n",
    "        rec_noise = G.decoder(noisev)\n",
    "        \n",
    "        # train discriminator\n",
    "        # L_GAN = log Dis(x) + log Dis(Dec(z)) + log D(Dec(Enc(x)))\n",
    "        output = D(datav)\n",
    "        # log(Dis(x))\n",
    "        errD_real =  criterion(output, ones_label)\n",
    "        D_real_list.append(output.data.mean().cpu())\n",
    "        output = D(rec_enc)\n",
    "        # log (Dis(Dec(Enc(x)))\n",
    "        # print(output)\n",
    "        errD_rec_enc =  criterion(output, zeros_label)\n",
    "        D_rec_enc_list.append(output.data.mean().cpu())\n",
    "        output = D(rec_noise)\n",
    "        # log (Dis(Dec(z)))\n",
    "        errD_rec_noise =  criterion(output, zeros_label)\n",
    "        D_rec_noise_list.append(output.data.mean().cpu())\n",
    "        \n",
    "        # L_GAN = log Dis(x) + log Dis(Dec(z)) + log D(Dec(Enc(x)))\n",
    "        dis_img_loss = errD_real + errD_rec_enc + errD_rec_noise\n",
    "        D_list.append(dis_img_loss.data.mean().cpu())\n",
    "        opt_dis.zero_grad()\n",
    "        dis_img_loss.backward(retain_graph=True)\n",
    "        opt_dis.step()\n",
    "        \n",
    "        # train decoder\n",
    "        # gamma * L_llike^Disl - L_GAN\n",
    "        # L_llike^Disl = \\sum q(z|x) log p(Dis(x)|z)\n",
    "        # 也就是x送入Discriminator和recon_x送入Discriminator的feature的MSE\n",
    "        output = D(datav)\n",
    "        # log Dis(x)\n",
    "        errD_real =  criterion(output, ones_label)\n",
    "        output = D(rec_enc)\n",
    "        # log Dis(Dec(Enc(x)))\n",
    "        errD_rec_enc =  criterion(output, zeros_label)\n",
    "        output = D(rec_noise)\n",
    "        # log Dis(Dec(z))\n",
    "        errD_rec_noise =  criterion(output, zeros_label)\n",
    "                              \n",
    "        # recon_x\n",
    "        similarity_rec_enc = D.similarity(rec_enc)\n",
    "        # x\n",
    "        similarity_data = D.similarity(datav)\n",
    "        \n",
    "        # L_GAN\n",
    "        dis_img_loss = errD_real + errD_rec_enc + errD_rec_noise\n",
    "        # -L_GAN\n",
    "        gen_img_loss = - dis_img_loss\n",
    "        \n",
    "        g_loss_list.append(gen_img_loss.data.mean().cpu())\n",
    "        # L_llike^Disl: MSE loss\n",
    "        rec_loss = ((similarity_rec_enc - similarity_data) ** 2).mean()\n",
    "        rec_loss_list.append(rec_loss.data.mean().cpu())\n",
    "        # L_Dec = gamma * L_llike^Disl - L_GAN\n",
    "        err_dec = gamma * rec_loss + gen_img_loss\n",
    "        \n",
    "        opt_dec.zero_grad()\n",
    "        err_dec.backward(retain_graph=True)\n",
    "        opt_dec.step()\n",
    "        \n",
    "        # train encoder\n",
    "        prior_loss = 1 + logvar - mean.pow(2) - logvar.exp()\n",
    "        prior_loss = (-0.5 * torch.sum(prior_loss))/torch.numel(mean.data)\n",
    "        #print (prior_loss, mean, std)\n",
    "        prior_loss_list.append(prior_loss.data.mean().cpu())\n",
    "        err_enc = prior_loss + beta * rec_loss\n",
    "        \n",
    "        opt_enc.zero_grad()\n",
    "        err_enc.backward()\n",
    "        opt_enc.step()\n",
    "        \n",
    "#         print(\"running...\")\n",
    "        \n",
    "    if epoch % 10 == 0:\n",
    "        save_model(epoch, G.encoder, G.decoder, D)\n",
    "    _, _, rec_imgs = G(fixed_batch)\n",
    "    show_and_save('image/rec_epoch_%d.png' % epoch ,make_grid((rec_imgs.data*0.5+0.5).cpu(),8))\n",
    "    '''\n",
    "    vutils.save_image(rec_imgs.data,\n",
    "            'rec_epoch_%d.png' % epoch,\n",
    "            normalize=True)\n",
    "    '''\n",
    "    samples = G.decoder(fixed_noise)\n",
    "    vutils.save_image(samples.data,\n",
    "            'image/sample_epoch_%d.png' % epoch,\n",
    "            normalize=True)\n",
    "    localtime = time.asctime( time.localtime(time.time()))\n",
    "    print (localtime)\n",
    "    print ('[%d/%d]: D_real:%.4f, D_enc:%.4f, D_noise:%.4f, Loss_D:%.4f, Loss_G:%.4f, rec_loss:%.4f, prior_loss:%.4f' \n",
    "           % (epoch, \n",
    "              max_epochs, \n",
    "              np.mean(D_real_list), \n",
    "              np.mean(D_rec_enc_list), \n",
    "              np.mean(D_rec_noise_list), \n",
    "              np.mean(D_list), \n",
    "              np.mean(g_loss_list),\n",
    "              np.mean(rec_loss_list),\n",
    "              np.mean(prior_loss_list)))"
   ]
  },
  {
   "cell_type": "code",
   "execution_count": null,
   "metadata": {},
   "outputs": [],
   "source": []
  },
  {
   "cell_type": "code",
   "execution_count": null,
   "metadata": {},
   "outputs": [],
   "source": []
  }
 ],
 "metadata": {
  "kernelspec": {
   "display_name": "Python 3",
   "language": "python",
   "name": "python3"
  },
  "language_info": {
   "codemirror_mode": {
    "name": "ipython",
    "version": 3
   },
   "file_extension": ".py",
   "mimetype": "text/x-python",
   "name": "python",
   "nbconvert_exporter": "python",
   "pygments_lexer": "ipython3",
   "version": "3.6.9"
  }
 },
 "nbformat": 4,
 "nbformat_minor": 4
}
